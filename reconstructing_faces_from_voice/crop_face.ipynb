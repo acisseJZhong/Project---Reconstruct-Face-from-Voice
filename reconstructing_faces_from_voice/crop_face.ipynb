{
 "cells": [
  {
   "cell_type": "code",
   "execution_count": 4,
   "id": "4b427b6e-9f6e-4afd-a265-16252f7c2225",
   "metadata": {},
   "outputs": [],
   "source": [
    "%matplotlib inline\n",
    "from matplotlib import pyplot as plt\n",
    "import cv2\n",
    "import os\n",
    "from tqdm import tqdm"
   ]
  },
  {
   "cell_type": "code",
   "execution_count": 14,
   "id": "35838b5d",
   "metadata": {},
   "outputs": [],
   "source": [
    "def crop_face(img_path):\n",
    "    img = cv2.imread(img_path, cv2.IMREAD_UNCHANGED)\n",
    "    face_cascade = cv2.CascadeClassifier('/home/ubuntu/efs/opencv/data/haarcascades/haarcascade_frontalface_alt2.xml')\n",
    "    faces = face_cascade.detectMultiScale(img)\n",
    "    if len(faces)>0:\n",
    "        x, y, w, h = faces[0]\n",
    "        # cv2.rectangle(img, (x, y), (x+w, y+h), (0, 0, 255), 2)\n",
    "        new_face = img[y:y + h, x:x + w]\n",
    "        return new_face\n",
    "    else:\n",
    "        return img"
   ]
  },
  {
   "cell_type": "code",
   "execution_count": 15,
   "id": "863e1abe-ccef-4382-bf5e-401f37da3bcd",
   "metadata": {},
   "outputs": [
    {
     "name": "stderr",
     "output_type": "stream",
     "text": [
      "100%|██████████| 2554/2554 [2:45:44<00:00,  3.89s/it]\n"
     ]
    }
   ],
   "source": [
    "path = \"data/VGG_ALL_FRONTAL\"\n",
    "dirs = os.listdir(path)\n",
    "new_path = \"data/cropped_faces\"\n",
    "\n",
    "for file in tqdm(dirs, total=len(dirs)):\n",
    "    person_path = os.listdir(path + \"/\" + file)\n",
    "    os.makedirs(new_path + '/' + file, exist_ok=True)\n",
    "    for img in person_path:\n",
    "        new_face = crop_face(path + \"/\" + file + \"/\" + img)\n",
    "        cv2.imwrite(new_path+\"/\"+file+\"/\"+img, new_face)"
   ]
  },
  {
   "cell_type": "code",
   "execution_count": null,
   "id": "fc54e1df",
   "metadata": {},
   "outputs": [],
   "source": []
  }
 ],
 "metadata": {
  "kernelspec": {
   "display_name": "Python 3 (ipykernel)",
   "language": "python",
   "name": "python3"
  },
  "language_info": {
   "codemirror_mode": {
    "name": "ipython",
    "version": 3
   },
   "file_extension": ".py",
   "mimetype": "text/x-python",
   "name": "python",
   "nbconvert_exporter": "python",
   "pygments_lexer": "ipython3",
   "version": "3.7.12"
  }
 },
 "nbformat": 4,
 "nbformat_minor": 5
}
